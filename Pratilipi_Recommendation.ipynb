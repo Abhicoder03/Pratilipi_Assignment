{
 "cells": [
  {
   "cell_type": "code",
   "execution_count": 1,
   "metadata": {
    "id": "u0evut7_FiUE"
   },
   "outputs": [],
   "source": [
    "import numpy as np\n",
    "import pandas as pd\n",
    "import matplotlib.pyplot as plt"
   ]
  },
  {
   "cell_type": "code",
   "execution_count": 3,
   "metadata": {
    "id": "hAErLatfFqqV"
   },
   "outputs": [],
   "source": [
    "user_interaction = pd.read_csv('user_interaction_pratilipi.csv')"
   ]
  },
  {
   "cell_type": "code",
   "execution_count": 4,
   "metadata": {
    "id": "YFYsdaqpF5Dx"
   },
   "outputs": [],
   "source": [
    "user_interaction['updated_at'] = pd.to_datetime(user_interaction['updated_at'])"
   ]
  },
  {
   "cell_type": "code",
   "execution_count": 5,
   "metadata": {
    "id": "Vkg2yTsDF2v3"
   },
   "outputs": [],
   "source": [
    "meta_data = pd.read_csv('metadata_pratilipi.csv')"
   ]
  },
  {
   "cell_type": "code",
   "execution_count": 6,
   "metadata": {
    "id": "IS1227qMF7Eb"
   },
   "outputs": [],
   "source": [
    "meta_data['updated_at'] = pd.to_datetime(meta_data['updated_at'])\n",
    "meta_data['published_at'] = pd.to_datetime(meta_data['published_at'])"
   ]
  },
  {
   "cell_type": "code",
   "execution_count": 7,
   "metadata": {
    "id": "jLCxzZ1RF_g1"
   },
   "outputs": [],
   "source": [
    "merged_data = pd.merge(user_interaction, meta_data, on='pratilipi_id', how='left')"
   ]
  },
  {
   "cell_type": "code",
   "execution_count": 8,
   "metadata": {
    "id": "RhdfMphUG4xt"
   },
   "outputs": [],
   "source": [
    "\n",
    "merged_data = merged_data.rename(columns={'updated_at_x': 'user_interacted'})\n",
    "merged_data = merged_data.rename(columns={'updated_at_y': 'meta_data_updated'})"
   ]
  },
  {
   "cell_type": "code",
   "execution_count": 10,
   "metadata": {
    "colab": {
     "base_uri": "https://localhost:8080/",
     "height": 617
    },
    "id": "RWAnQtuhHIHk",
    "outputId": "0f3b103e-921c-49e2-a553-500309efd53b"
   },
   "outputs": [
    {
     "data": {
      "text/html": [
       "<div>\n",
       "<style scoped>\n",
       "    .dataframe tbody tr th:only-of-type {\n",
       "        vertical-align: middle;\n",
       "    }\n",
       "\n",
       "    .dataframe tbody tr th {\n",
       "        vertical-align: top;\n",
       "    }\n",
       "\n",
       "    .dataframe thead th {\n",
       "        text-align: right;\n",
       "    }\n",
       "</style>\n",
       "<table border=\"1\" class=\"dataframe\">\n",
       "  <thead>\n",
       "    <tr style=\"text-align: right;\">\n",
       "      <th></th>\n",
       "      <th>user_id</th>\n",
       "      <th>pratilipi_id</th>\n",
       "      <th>read_percent</th>\n",
       "      <th>user_interacted</th>\n",
       "      <th>author_id</th>\n",
       "      <th>category_name</th>\n",
       "      <th>reading_time</th>\n",
       "      <th>meta_data_updated</th>\n",
       "      <th>published_at</th>\n",
       "    </tr>\n",
       "  </thead>\n",
       "  <tbody>\n",
       "    <tr>\n",
       "      <th>0</th>\n",
       "      <td>5506791961876448</td>\n",
       "      <td>1377786228262109</td>\n",
       "      <td>100.0</td>\n",
       "      <td>2022-03-22 10:29:57.291</td>\n",
       "      <td>-2.270332e+15</td>\n",
       "      <td>novels</td>\n",
       "      <td>376.0</td>\n",
       "      <td>2022-03-15 18:39:52</td>\n",
       "      <td>2022-03-15 18:39:52</td>\n",
       "    </tr>\n",
       "    <tr>\n",
       "      <th>1</th>\n",
       "      <td>5506791961876448</td>\n",
       "      <td>1377786228262109</td>\n",
       "      <td>100.0</td>\n",
       "      <td>2022-03-22 10:29:57.291</td>\n",
       "      <td>-2.270332e+15</td>\n",
       "      <td>family</td>\n",
       "      <td>376.0</td>\n",
       "      <td>2022-03-15 18:39:52</td>\n",
       "      <td>2022-03-15 18:39:52</td>\n",
       "    </tr>\n",
       "    <tr>\n",
       "      <th>2</th>\n",
       "      <td>5506791961876448</td>\n",
       "      <td>1377786228262109</td>\n",
       "      <td>100.0</td>\n",
       "      <td>2022-03-22 10:29:57.291</td>\n",
       "      <td>-2.270332e+15</td>\n",
       "      <td>romance</td>\n",
       "      <td>376.0</td>\n",
       "      <td>2022-03-15 18:39:52</td>\n",
       "      <td>2022-03-15 18:39:52</td>\n",
       "    </tr>\n",
       "    <tr>\n",
       "      <th>3</th>\n",
       "      <td>5506791971543560</td>\n",
       "      <td>1377786223038206</td>\n",
       "      <td>40.0</td>\n",
       "      <td>2022-03-19 13:49:25.660</td>\n",
       "      <td>-2.270332e+15</td>\n",
       "      <td>romance</td>\n",
       "      <td>361.0</td>\n",
       "      <td>2021-03-17 11:48:11</td>\n",
       "      <td>2021-03-16 19:09:19</td>\n",
       "    </tr>\n",
       "    <tr>\n",
       "      <th>4</th>\n",
       "      <td>5506791971543560</td>\n",
       "      <td>1377786223038206</td>\n",
       "      <td>40.0</td>\n",
       "      <td>2022-03-19 13:49:25.660</td>\n",
       "      <td>-2.270332e+15</td>\n",
       "      <td>suspense</td>\n",
       "      <td>361.0</td>\n",
       "      <td>2021-03-17 11:48:11</td>\n",
       "      <td>2021-03-16 19:09:19</td>\n",
       "    </tr>\n",
       "    <tr>\n",
       "      <th>...</th>\n",
       "      <td>...</td>\n",
       "      <td>...</td>\n",
       "      <td>...</td>\n",
       "      <td>...</td>\n",
       "      <td>...</td>\n",
       "      <td>...</td>\n",
       "      <td>...</td>\n",
       "      <td>...</td>\n",
       "      <td>...</td>\n",
       "    </tr>\n",
       "    <tr>\n",
       "      <th>4966616</th>\n",
       "      <td>5506791968781083</td>\n",
       "      <td>1377786226056467</td>\n",
       "      <td>100.0</td>\n",
       "      <td>2022-03-21 06:41:54.083</td>\n",
       "      <td>-2.270332e+15</td>\n",
       "      <td>novels</td>\n",
       "      <td>560.0</td>\n",
       "      <td>2021-12-08 15:08:01</td>\n",
       "      <td>2021-12-08 15:08:00</td>\n",
       "    </tr>\n",
       "    <tr>\n",
       "      <th>4966617</th>\n",
       "      <td>5506791968781083</td>\n",
       "      <td>1377786226056467</td>\n",
       "      <td>100.0</td>\n",
       "      <td>2022-03-21 06:41:54.083</td>\n",
       "      <td>-2.270332e+15</td>\n",
       "      <td>romance</td>\n",
       "      <td>560.0</td>\n",
       "      <td>2021-12-08 15:08:01</td>\n",
       "      <td>2021-12-08 15:08:00</td>\n",
       "    </tr>\n",
       "    <tr>\n",
       "      <th>4966618</th>\n",
       "      <td>5506791968781083</td>\n",
       "      <td>1377786226056467</td>\n",
       "      <td>100.0</td>\n",
       "      <td>2022-03-21 06:41:54.083</td>\n",
       "      <td>-2.270332e+15</td>\n",
       "      <td>suspense</td>\n",
       "      <td>560.0</td>\n",
       "      <td>2021-12-08 15:08:01</td>\n",
       "      <td>2021-12-08 15:08:00</td>\n",
       "    </tr>\n",
       "    <tr>\n",
       "      <th>4966619</th>\n",
       "      <td>5506791956021363</td>\n",
       "      <td>1377786226666757</td>\n",
       "      <td>100.0</td>\n",
       "      <td>2022-03-20 08:59:49.346</td>\n",
       "      <td>-2.270332e+15</td>\n",
       "      <td>novels</td>\n",
       "      <td>727.0</td>\n",
       "      <td>2021-12-03 18:10:45</td>\n",
       "      <td>2021-12-03 18:10:45</td>\n",
       "    </tr>\n",
       "    <tr>\n",
       "      <th>4966620</th>\n",
       "      <td>5506791956021363</td>\n",
       "      <td>1377786226666757</td>\n",
       "      <td>100.0</td>\n",
       "      <td>2022-03-20 08:59:49.346</td>\n",
       "      <td>-2.270332e+15</td>\n",
       "      <td>romance</td>\n",
       "      <td>727.0</td>\n",
       "      <td>2021-12-03 18:10:45</td>\n",
       "      <td>2021-12-03 18:10:45</td>\n",
       "    </tr>\n",
       "  </tbody>\n",
       "</table>\n",
       "<p>4966621 rows × 9 columns</p>\n",
       "</div>"
      ],
      "text/plain": [
       "                  user_id      pratilipi_id  read_percent  \\\n",
       "0        5506791961876448  1377786228262109         100.0   \n",
       "1        5506791961876448  1377786228262109         100.0   \n",
       "2        5506791961876448  1377786228262109         100.0   \n",
       "3        5506791971543560  1377786223038206          40.0   \n",
       "4        5506791971543560  1377786223038206          40.0   \n",
       "...                   ...               ...           ...   \n",
       "4966616  5506791968781083  1377786226056467         100.0   \n",
       "4966617  5506791968781083  1377786226056467         100.0   \n",
       "4966618  5506791968781083  1377786226056467         100.0   \n",
       "4966619  5506791956021363  1377786226666757         100.0   \n",
       "4966620  5506791956021363  1377786226666757         100.0   \n",
       "\n",
       "                user_interacted     author_id category_name  reading_time  \\\n",
       "0       2022-03-22 10:29:57.291 -2.270332e+15        novels         376.0   \n",
       "1       2022-03-22 10:29:57.291 -2.270332e+15        family         376.0   \n",
       "2       2022-03-22 10:29:57.291 -2.270332e+15       romance         376.0   \n",
       "3       2022-03-19 13:49:25.660 -2.270332e+15       romance         361.0   \n",
       "4       2022-03-19 13:49:25.660 -2.270332e+15      suspense         361.0   \n",
       "...                         ...           ...           ...           ...   \n",
       "4966616 2022-03-21 06:41:54.083 -2.270332e+15        novels         560.0   \n",
       "4966617 2022-03-21 06:41:54.083 -2.270332e+15       romance         560.0   \n",
       "4966618 2022-03-21 06:41:54.083 -2.270332e+15      suspense         560.0   \n",
       "4966619 2022-03-20 08:59:49.346 -2.270332e+15        novels         727.0   \n",
       "4966620 2022-03-20 08:59:49.346 -2.270332e+15       romance         727.0   \n",
       "\n",
       "          meta_data_updated        published_at  \n",
       "0       2022-03-15 18:39:52 2022-03-15 18:39:52  \n",
       "1       2022-03-15 18:39:52 2022-03-15 18:39:52  \n",
       "2       2022-03-15 18:39:52 2022-03-15 18:39:52  \n",
       "3       2021-03-17 11:48:11 2021-03-16 19:09:19  \n",
       "4       2021-03-17 11:48:11 2021-03-16 19:09:19  \n",
       "...                     ...                 ...  \n",
       "4966616 2021-12-08 15:08:01 2021-12-08 15:08:00  \n",
       "4966617 2021-12-08 15:08:01 2021-12-08 15:08:00  \n",
       "4966618 2021-12-08 15:08:01 2021-12-08 15:08:00  \n",
       "4966619 2021-12-03 18:10:45 2021-12-03 18:10:45  \n",
       "4966620 2021-12-03 18:10:45 2021-12-03 18:10:45  \n",
       "\n",
       "[4966621 rows x 9 columns]"
      ]
     },
     "execution_count": 10,
     "metadata": {},
     "output_type": "execute_result"
    }
   ],
   "source": [
    "merged_data"
   ]
  },
  {
   "cell_type": "code",
   "execution_count": 13,
   "metadata": {},
   "outputs": [
    {
     "data": {
      "text/plain": [
       "243606"
      ]
     },
     "execution_count": 13,
     "metadata": {},
     "output_type": "execute_result"
    }
   ],
   "source": [
    "merged_data['user_id'].nunique()"
   ]
  },
  {
   "cell_type": "code",
   "execution_count": 19,
   "metadata": {
    "colab": {
     "base_uri": "https://localhost:8080/",
     "height": 366
    },
    "id": "A7mdIF84HM6G",
    "outputId": "d08aed3b-15fc-4eed-fc3f-8b752f8795b2"
   },
   "outputs": [
    {
     "data": {
      "text/plain": [
       "user_id                   0\n",
       "pratilipi_id              0\n",
       "read_percent              0\n",
       "user_interacted           0\n",
       "author_id            991943\n",
       "category_name        991943\n",
       "reading_time         991943\n",
       "meta_data_updated    991943\n",
       "published_at         991943\n",
       "dtype: int64"
      ]
     },
     "execution_count": 19,
     "metadata": {},
     "output_type": "execute_result"
    }
   ],
   "source": [
    "merged_data.isnull().sum()"
   ]
  },
  {
   "cell_type": "code",
   "execution_count": 21,
   "metadata": {
    "id": "mFXrelQbGI_l"
   },
   "outputs": [],
   "source": [
    "#merged_data = merged_data.sort_values(by='user_interacted')"
   ]
  },
  {
   "cell_type": "code",
   "execution_count": 23,
   "metadata": {
    "id": "6owONSJkHwPE"
   },
   "outputs": [],
   "source": [
    "# Remove rows with critical missing values\n",
    "merged_data.dropna(subset=['author_id', 'category_name', 'reading_time','meta_data_updated','published_at'], inplace=True)"
   ]
  },
  {
   "cell_type": "code",
   "execution_count": 25,
   "metadata": {
    "colab": {
     "base_uri": "https://localhost:8080/",
     "height": 617
    },
    "id": "2caX1TKfGMCY",
    "outputId": "8084083f-2423-4a4e-c399-a91a6b7a6c1f"
   },
   "outputs": [
    {
     "data": {
      "text/html": [
       "<div>\n",
       "<style scoped>\n",
       "    .dataframe tbody tr th:only-of-type {\n",
       "        vertical-align: middle;\n",
       "    }\n",
       "\n",
       "    .dataframe tbody tr th {\n",
       "        vertical-align: top;\n",
       "    }\n",
       "\n",
       "    .dataframe thead th {\n",
       "        text-align: right;\n",
       "    }\n",
       "</style>\n",
       "<table border=\"1\" class=\"dataframe\">\n",
       "  <thead>\n",
       "    <tr style=\"text-align: right;\">\n",
       "      <th></th>\n",
       "      <th>user_id</th>\n",
       "      <th>pratilipi_id</th>\n",
       "      <th>read_percent</th>\n",
       "      <th>user_interacted</th>\n",
       "      <th>author_id</th>\n",
       "      <th>category_name</th>\n",
       "      <th>reading_time</th>\n",
       "      <th>meta_data_updated</th>\n",
       "      <th>published_at</th>\n",
       "    </tr>\n",
       "  </thead>\n",
       "  <tbody>\n",
       "    <tr>\n",
       "      <th>0</th>\n",
       "      <td>5506791961876448</td>\n",
       "      <td>1377786228262109</td>\n",
       "      <td>100.0</td>\n",
       "      <td>2022-03-22 10:29:57.291</td>\n",
       "      <td>-2.270332e+15</td>\n",
       "      <td>novels</td>\n",
       "      <td>376.0</td>\n",
       "      <td>2022-03-15 18:39:52</td>\n",
       "      <td>2022-03-15 18:39:52</td>\n",
       "    </tr>\n",
       "    <tr>\n",
       "      <th>1</th>\n",
       "      <td>5506791961876448</td>\n",
       "      <td>1377786228262109</td>\n",
       "      <td>100.0</td>\n",
       "      <td>2022-03-22 10:29:57.291</td>\n",
       "      <td>-2.270332e+15</td>\n",
       "      <td>family</td>\n",
       "      <td>376.0</td>\n",
       "      <td>2022-03-15 18:39:52</td>\n",
       "      <td>2022-03-15 18:39:52</td>\n",
       "    </tr>\n",
       "    <tr>\n",
       "      <th>2</th>\n",
       "      <td>5506791961876448</td>\n",
       "      <td>1377786228262109</td>\n",
       "      <td>100.0</td>\n",
       "      <td>2022-03-22 10:29:57.291</td>\n",
       "      <td>-2.270332e+15</td>\n",
       "      <td>romance</td>\n",
       "      <td>376.0</td>\n",
       "      <td>2022-03-15 18:39:52</td>\n",
       "      <td>2022-03-15 18:39:52</td>\n",
       "    </tr>\n",
       "    <tr>\n",
       "      <th>3</th>\n",
       "      <td>5506791971543560</td>\n",
       "      <td>1377786223038206</td>\n",
       "      <td>40.0</td>\n",
       "      <td>2022-03-19 13:49:25.660</td>\n",
       "      <td>-2.270332e+15</td>\n",
       "      <td>romance</td>\n",
       "      <td>361.0</td>\n",
       "      <td>2021-03-17 11:48:11</td>\n",
       "      <td>2021-03-16 19:09:19</td>\n",
       "    </tr>\n",
       "    <tr>\n",
       "      <th>4</th>\n",
       "      <td>5506791971543560</td>\n",
       "      <td>1377786223038206</td>\n",
       "      <td>40.0</td>\n",
       "      <td>2022-03-19 13:49:25.660</td>\n",
       "      <td>-2.270332e+15</td>\n",
       "      <td>suspense</td>\n",
       "      <td>361.0</td>\n",
       "      <td>2021-03-17 11:48:11</td>\n",
       "      <td>2021-03-16 19:09:19</td>\n",
       "    </tr>\n",
       "    <tr>\n",
       "      <th>...</th>\n",
       "      <td>...</td>\n",
       "      <td>...</td>\n",
       "      <td>...</td>\n",
       "      <td>...</td>\n",
       "      <td>...</td>\n",
       "      <td>...</td>\n",
       "      <td>...</td>\n",
       "      <td>...</td>\n",
       "      <td>...</td>\n",
       "    </tr>\n",
       "    <tr>\n",
       "      <th>4966616</th>\n",
       "      <td>5506791968781083</td>\n",
       "      <td>1377786226056467</td>\n",
       "      <td>100.0</td>\n",
       "      <td>2022-03-21 06:41:54.083</td>\n",
       "      <td>-2.270332e+15</td>\n",
       "      <td>novels</td>\n",
       "      <td>560.0</td>\n",
       "      <td>2021-12-08 15:08:01</td>\n",
       "      <td>2021-12-08 15:08:00</td>\n",
       "    </tr>\n",
       "    <tr>\n",
       "      <th>4966617</th>\n",
       "      <td>5506791968781083</td>\n",
       "      <td>1377786226056467</td>\n",
       "      <td>100.0</td>\n",
       "      <td>2022-03-21 06:41:54.083</td>\n",
       "      <td>-2.270332e+15</td>\n",
       "      <td>romance</td>\n",
       "      <td>560.0</td>\n",
       "      <td>2021-12-08 15:08:01</td>\n",
       "      <td>2021-12-08 15:08:00</td>\n",
       "    </tr>\n",
       "    <tr>\n",
       "      <th>4966618</th>\n",
       "      <td>5506791968781083</td>\n",
       "      <td>1377786226056467</td>\n",
       "      <td>100.0</td>\n",
       "      <td>2022-03-21 06:41:54.083</td>\n",
       "      <td>-2.270332e+15</td>\n",
       "      <td>suspense</td>\n",
       "      <td>560.0</td>\n",
       "      <td>2021-12-08 15:08:01</td>\n",
       "      <td>2021-12-08 15:08:00</td>\n",
       "    </tr>\n",
       "    <tr>\n",
       "      <th>4966619</th>\n",
       "      <td>5506791956021363</td>\n",
       "      <td>1377786226666757</td>\n",
       "      <td>100.0</td>\n",
       "      <td>2022-03-20 08:59:49.346</td>\n",
       "      <td>-2.270332e+15</td>\n",
       "      <td>novels</td>\n",
       "      <td>727.0</td>\n",
       "      <td>2021-12-03 18:10:45</td>\n",
       "      <td>2021-12-03 18:10:45</td>\n",
       "    </tr>\n",
       "    <tr>\n",
       "      <th>4966620</th>\n",
       "      <td>5506791956021363</td>\n",
       "      <td>1377786226666757</td>\n",
       "      <td>100.0</td>\n",
       "      <td>2022-03-20 08:59:49.346</td>\n",
       "      <td>-2.270332e+15</td>\n",
       "      <td>romance</td>\n",
       "      <td>727.0</td>\n",
       "      <td>2021-12-03 18:10:45</td>\n",
       "      <td>2021-12-03 18:10:45</td>\n",
       "    </tr>\n",
       "  </tbody>\n",
       "</table>\n",
       "<p>3974678 rows × 9 columns</p>\n",
       "</div>"
      ],
      "text/plain": [
       "                  user_id      pratilipi_id  read_percent  \\\n",
       "0        5506791961876448  1377786228262109         100.0   \n",
       "1        5506791961876448  1377786228262109         100.0   \n",
       "2        5506791961876448  1377786228262109         100.0   \n",
       "3        5506791971543560  1377786223038206          40.0   \n",
       "4        5506791971543560  1377786223038206          40.0   \n",
       "...                   ...               ...           ...   \n",
       "4966616  5506791968781083  1377786226056467         100.0   \n",
       "4966617  5506791968781083  1377786226056467         100.0   \n",
       "4966618  5506791968781083  1377786226056467         100.0   \n",
       "4966619  5506791956021363  1377786226666757         100.0   \n",
       "4966620  5506791956021363  1377786226666757         100.0   \n",
       "\n",
       "                user_interacted     author_id category_name  reading_time  \\\n",
       "0       2022-03-22 10:29:57.291 -2.270332e+15        novels         376.0   \n",
       "1       2022-03-22 10:29:57.291 -2.270332e+15        family         376.0   \n",
       "2       2022-03-22 10:29:57.291 -2.270332e+15       romance         376.0   \n",
       "3       2022-03-19 13:49:25.660 -2.270332e+15       romance         361.0   \n",
       "4       2022-03-19 13:49:25.660 -2.270332e+15      suspense         361.0   \n",
       "...                         ...           ...           ...           ...   \n",
       "4966616 2022-03-21 06:41:54.083 -2.270332e+15        novels         560.0   \n",
       "4966617 2022-03-21 06:41:54.083 -2.270332e+15       romance         560.0   \n",
       "4966618 2022-03-21 06:41:54.083 -2.270332e+15      suspense         560.0   \n",
       "4966619 2022-03-20 08:59:49.346 -2.270332e+15        novels         727.0   \n",
       "4966620 2022-03-20 08:59:49.346 -2.270332e+15       romance         727.0   \n",
       "\n",
       "          meta_data_updated        published_at  \n",
       "0       2022-03-15 18:39:52 2022-03-15 18:39:52  \n",
       "1       2022-03-15 18:39:52 2022-03-15 18:39:52  \n",
       "2       2022-03-15 18:39:52 2022-03-15 18:39:52  \n",
       "3       2021-03-17 11:48:11 2021-03-16 19:09:19  \n",
       "4       2021-03-17 11:48:11 2021-03-16 19:09:19  \n",
       "...                     ...                 ...  \n",
       "4966616 2021-12-08 15:08:01 2021-12-08 15:08:00  \n",
       "4966617 2021-12-08 15:08:01 2021-12-08 15:08:00  \n",
       "4966618 2021-12-08 15:08:01 2021-12-08 15:08:00  \n",
       "4966619 2021-12-03 18:10:45 2021-12-03 18:10:45  \n",
       "4966620 2021-12-03 18:10:45 2021-12-03 18:10:45  \n",
       "\n",
       "[3974678 rows x 9 columns]"
      ]
     },
     "execution_count": 25,
     "metadata": {},
     "output_type": "execute_result"
    }
   ],
   "source": [
    "merged_data"
   ]
  },
  {
   "cell_type": "code",
   "execution_count": 27,
   "metadata": {
    "colab": {
     "base_uri": "https://localhost:8080/",
     "height": 366
    },
    "id": "_J9Tup0IH1gg",
    "outputId": "47768e9c-6509-4293-de04-9dc2e684f8a3"
   },
   "outputs": [
    {
     "data": {
      "text/plain": [
       "user_id              0\n",
       "pratilipi_id         0\n",
       "read_percent         0\n",
       "user_interacted      0\n",
       "author_id            0\n",
       "category_name        0\n",
       "reading_time         0\n",
       "meta_data_updated    0\n",
       "published_at         0\n",
       "dtype: int64"
      ]
     },
     "execution_count": 27,
     "metadata": {},
     "output_type": "execute_result"
    }
   ],
   "source": [
    "merged_data.isnull().sum()"
   ]
  },
  {
   "cell_type": "markdown",
   "metadata": {
    "id": "iOvrDFZgI0tu"
   },
   "source": [
    "# Filtering because there are so many rows which would be computationally expensive"
   ]
  },
  {
   "cell_type": "code",
   "execution_count": 30,
   "metadata": {
    "id": "luh3r6OLJLwl"
   },
   "outputs": [],
   "source": [
    "user_interaction_count = merged_data['user_id'].value_counts()"
   ]
  },
  {
   "cell_type": "code",
   "execution_count": 32,
   "metadata": {
    "colab": {
     "base_uri": "https://localhost:8080/",
     "height": 489
    },
    "id": "SZ5boC-eJNXa",
    "outputId": "d3d6aef7-8cca-49ed-cbf0-35e57181e32e"
   },
   "outputs": [
    {
     "data": {
      "text/plain": [
       "user_id\n",
       "5506791978555287    673\n",
       "5506791984436689    617\n",
       "5506791985959683    583\n",
       "5371339105280676    578\n",
       "5506791986650045    558\n",
       "                   ... \n",
       "5506791996421136      1\n",
       "5506791984734834      1\n",
       "5506791990915567      1\n",
       "5506791969622821      1\n",
       "5506791973343947      1\n",
       "Name: count, Length: 211141, dtype: int64"
      ]
     },
     "execution_count": 32,
     "metadata": {},
     "output_type": "execute_result"
    }
   ],
   "source": [
    "user_interaction_count"
   ]
  },
  {
   "cell_type": "code",
   "execution_count": 38,
   "metadata": {
    "colab": {
     "base_uri": "https://localhost:8080/"
    },
    "id": "H99QDjL2INo-",
    "outputId": "602983fe-aa70-4d83-b3e4-8b1ff1a35dde"
   },
   "outputs": [
    {
     "name": "stdout",
     "output_type": "stream",
     "text": [
      "Filtered data size: (68841, 9)\n"
     ]
    }
   ],
   "source": [
    "# Filter out users with less than 5 interactions\n",
    "user_interaction_count = merged_data['user_id'].value_counts()\n",
    "active_users = user_interaction_count[user_interaction_count > 250].index\n",
    "filtered_data = merged_data[merged_data['user_id'].isin(active_users)]\n",
    "\n",
    "print(f\"Filtered data size: {filtered_data.shape}\")\n"
   ]
  },
  {
   "cell_type": "code",
   "execution_count": 40,
   "metadata": {
    "colab": {
     "base_uri": "https://localhost:8080/",
     "height": 634
    },
    "id": "w3h9o-WHJwUU",
    "outputId": "39ebf996-a3c1-4fec-e1ce-49a197d40115"
   },
   "outputs": [
    {
     "data": {
      "text/html": [
       "<div>\n",
       "<style scoped>\n",
       "    .dataframe tbody tr th:only-of-type {\n",
       "        vertical-align: middle;\n",
       "    }\n",
       "\n",
       "    .dataframe tbody tr th {\n",
       "        vertical-align: top;\n",
       "    }\n",
       "\n",
       "    .dataframe thead th {\n",
       "        text-align: right;\n",
       "    }\n",
       "</style>\n",
       "<table border=\"1\" class=\"dataframe\">\n",
       "  <thead>\n",
       "    <tr style=\"text-align: right;\">\n",
       "      <th></th>\n",
       "      <th>user_id</th>\n",
       "      <th>pratilipi_id</th>\n",
       "      <th>read_percent</th>\n",
       "      <th>user_interacted</th>\n",
       "      <th>author_id</th>\n",
       "      <th>category_name</th>\n",
       "      <th>reading_time</th>\n",
       "      <th>meta_data_updated</th>\n",
       "      <th>published_at</th>\n",
       "    </tr>\n",
       "  </thead>\n",
       "  <tbody>\n",
       "    <tr>\n",
       "      <th>106</th>\n",
       "      <td>5506791979646770</td>\n",
       "      <td>1377786228185246</td>\n",
       "      <td>69.0</td>\n",
       "      <td>2022-03-19 07:48:23.275</td>\n",
       "      <td>-2.270332e+15</td>\n",
       "      <td>family</td>\n",
       "      <td>439.0</td>\n",
       "      <td>2022-03-10 16:33:06</td>\n",
       "      <td>2022-03-10 16:33:05</td>\n",
       "    </tr>\n",
       "    <tr>\n",
       "      <th>107</th>\n",
       "      <td>5506791979646770</td>\n",
       "      <td>1377786228185246</td>\n",
       "      <td>69.0</td>\n",
       "      <td>2022-03-19 07:48:23.275</td>\n",
       "      <td>-2.270332e+15</td>\n",
       "      <td>romance</td>\n",
       "      <td>439.0</td>\n",
       "      <td>2022-03-10 16:33:06</td>\n",
       "      <td>2022-03-10 16:33:05</td>\n",
       "    </tr>\n",
       "    <tr>\n",
       "      <th>108</th>\n",
       "      <td>5506791979646770</td>\n",
       "      <td>1377786228185246</td>\n",
       "      <td>69.0</td>\n",
       "      <td>2022-03-19 07:48:23.275</td>\n",
       "      <td>-2.270332e+15</td>\n",
       "      <td>entertainment</td>\n",
       "      <td>439.0</td>\n",
       "      <td>2022-03-10 16:33:06</td>\n",
       "      <td>2022-03-10 16:33:05</td>\n",
       "    </tr>\n",
       "    <tr>\n",
       "      <th>393</th>\n",
       "      <td>5506791967631324</td>\n",
       "      <td>1377786228029338</td>\n",
       "      <td>100.0</td>\n",
       "      <td>2022-03-20 09:15:31.208</td>\n",
       "      <td>-2.270332e+15</td>\n",
       "      <td>Pratilipi-Awards-Hindi</td>\n",
       "      <td>1116.0</td>\n",
       "      <td>2022-03-02 13:53:27</td>\n",
       "      <td>2022-03-02 13:53:27</td>\n",
       "    </tr>\n",
       "    <tr>\n",
       "      <th>394</th>\n",
       "      <td>5506791967631324</td>\n",
       "      <td>1377786228029338</td>\n",
       "      <td>100.0</td>\n",
       "      <td>2022-03-20 09:15:31.208</td>\n",
       "      <td>-2.270332e+15</td>\n",
       "      <td>romance</td>\n",
       "      <td>1116.0</td>\n",
       "      <td>2022-03-02 13:53:27</td>\n",
       "      <td>2022-03-02 13:53:27</td>\n",
       "    </tr>\n",
       "    <tr>\n",
       "      <th>...</th>\n",
       "      <td>...</td>\n",
       "      <td>...</td>\n",
       "      <td>...</td>\n",
       "      <td>...</td>\n",
       "      <td>...</td>\n",
       "      <td>...</td>\n",
       "      <td>...</td>\n",
       "      <td>...</td>\n",
       "      <td>...</td>\n",
       "    </tr>\n",
       "    <tr>\n",
       "      <th>4966191</th>\n",
       "      <td>5506791984835067</td>\n",
       "      <td>1377786223489520</td>\n",
       "      <td>100.0</td>\n",
       "      <td>2022-03-21 09:18:52.187</td>\n",
       "      <td>-2.270332e+15</td>\n",
       "      <td>romance</td>\n",
       "      <td>77.0</td>\n",
       "      <td>2021-04-25 07:19:18</td>\n",
       "      <td>2021-04-25 07:19:18</td>\n",
       "    </tr>\n",
       "    <tr>\n",
       "      <th>4966192</th>\n",
       "      <td>5506791984835067</td>\n",
       "      <td>1377786223489520</td>\n",
       "      <td>100.0</td>\n",
       "      <td>2022-03-21 09:18:52.187</td>\n",
       "      <td>-2.270332e+15</td>\n",
       "      <td>fantasy</td>\n",
       "      <td>77.0</td>\n",
       "      <td>2021-04-25 07:19:18</td>\n",
       "      <td>2021-04-25 07:19:18</td>\n",
       "    </tr>\n",
       "    <tr>\n",
       "      <th>4966454</th>\n",
       "      <td>5506791978763490</td>\n",
       "      <td>1377786227868379</td>\n",
       "      <td>100.0</td>\n",
       "      <td>2022-03-20 06:36:22.026</td>\n",
       "      <td>-2.270332e+15</td>\n",
       "      <td>novels</td>\n",
       "      <td>654.0</td>\n",
       "      <td>2022-02-18 16:21:07</td>\n",
       "      <td>2022-02-18 16:21:07</td>\n",
       "    </tr>\n",
       "    <tr>\n",
       "      <th>4966455</th>\n",
       "      <td>5506791978763490</td>\n",
       "      <td>1377786227868379</td>\n",
       "      <td>100.0</td>\n",
       "      <td>2022-03-20 06:36:22.026</td>\n",
       "      <td>-2.270332e+15</td>\n",
       "      <td>family</td>\n",
       "      <td>654.0</td>\n",
       "      <td>2022-02-18 16:21:07</td>\n",
       "      <td>2022-02-18 16:21:07</td>\n",
       "    </tr>\n",
       "    <tr>\n",
       "      <th>4966456</th>\n",
       "      <td>5506791978763490</td>\n",
       "      <td>1377786227868379</td>\n",
       "      <td>100.0</td>\n",
       "      <td>2022-03-20 06:36:22.026</td>\n",
       "      <td>-2.270332e+15</td>\n",
       "      <td>romance</td>\n",
       "      <td>654.0</td>\n",
       "      <td>2022-02-18 16:21:07</td>\n",
       "      <td>2022-02-18 16:21:07</td>\n",
       "    </tr>\n",
       "  </tbody>\n",
       "</table>\n",
       "<p>68841 rows × 9 columns</p>\n",
       "</div>"
      ],
      "text/plain": [
       "                  user_id      pratilipi_id  read_percent  \\\n",
       "106      5506791979646770  1377786228185246          69.0   \n",
       "107      5506791979646770  1377786228185246          69.0   \n",
       "108      5506791979646770  1377786228185246          69.0   \n",
       "393      5506791967631324  1377786228029338         100.0   \n",
       "394      5506791967631324  1377786228029338         100.0   \n",
       "...                   ...               ...           ...   \n",
       "4966191  5506791984835067  1377786223489520         100.0   \n",
       "4966192  5506791984835067  1377786223489520         100.0   \n",
       "4966454  5506791978763490  1377786227868379         100.0   \n",
       "4966455  5506791978763490  1377786227868379         100.0   \n",
       "4966456  5506791978763490  1377786227868379         100.0   \n",
       "\n",
       "                user_interacted     author_id           category_name  \\\n",
       "106     2022-03-19 07:48:23.275 -2.270332e+15                  family   \n",
       "107     2022-03-19 07:48:23.275 -2.270332e+15                 romance   \n",
       "108     2022-03-19 07:48:23.275 -2.270332e+15           entertainment   \n",
       "393     2022-03-20 09:15:31.208 -2.270332e+15  Pratilipi-Awards-Hindi   \n",
       "394     2022-03-20 09:15:31.208 -2.270332e+15                 romance   \n",
       "...                         ...           ...                     ...   \n",
       "4966191 2022-03-21 09:18:52.187 -2.270332e+15                 romance   \n",
       "4966192 2022-03-21 09:18:52.187 -2.270332e+15                 fantasy   \n",
       "4966454 2022-03-20 06:36:22.026 -2.270332e+15                  novels   \n",
       "4966455 2022-03-20 06:36:22.026 -2.270332e+15                  family   \n",
       "4966456 2022-03-20 06:36:22.026 -2.270332e+15                 romance   \n",
       "\n",
       "         reading_time   meta_data_updated        published_at  \n",
       "106             439.0 2022-03-10 16:33:06 2022-03-10 16:33:05  \n",
       "107             439.0 2022-03-10 16:33:06 2022-03-10 16:33:05  \n",
       "108             439.0 2022-03-10 16:33:06 2022-03-10 16:33:05  \n",
       "393            1116.0 2022-03-02 13:53:27 2022-03-02 13:53:27  \n",
       "394            1116.0 2022-03-02 13:53:27 2022-03-02 13:53:27  \n",
       "...               ...                 ...                 ...  \n",
       "4966191          77.0 2021-04-25 07:19:18 2021-04-25 07:19:18  \n",
       "4966192          77.0 2021-04-25 07:19:18 2021-04-25 07:19:18  \n",
       "4966454         654.0 2022-02-18 16:21:07 2022-02-18 16:21:07  \n",
       "4966455         654.0 2022-02-18 16:21:07 2022-02-18 16:21:07  \n",
       "4966456         654.0 2022-02-18 16:21:07 2022-02-18 16:21:07  \n",
       "\n",
       "[68841 rows x 9 columns]"
      ]
     },
     "execution_count": 40,
     "metadata": {},
     "output_type": "execute_result"
    }
   ],
   "source": [
    "filtered_data"
   ]
  },
  {
   "cell_type": "markdown",
   "metadata": {
    "id": "73upI4VWKAjz"
   },
   "source": [
    "# Train - Test Split"
   ]
  },
  {
   "cell_type": "code",
   "execution_count": 254,
   "metadata": {
    "colab": {
     "base_uri": "https://localhost:8080/"
    },
    "id": "sbUyq0LiJmht",
    "outputId": "5afb3866-5249-4353-801c-0cd643bbd352"
   },
   "outputs": [
    {
     "name": "stdout",
     "output_type": "stream",
     "text": [
      "Training data size: (51630, 9)\n",
      "Testing data size: (17211, 9)\n"
     ]
    }
   ],
   "source": [
    "# Split into train and test sets (75% train, 25% test) based on the 'updated_at' timestamp\n",
    "train_size = int(0.75 * len(filtered_data))\n",
    "train_data = filtered_data.iloc[:train_size]\n",
    "test_data = filtered_data.iloc[train_size:]\n",
    "\n",
    "# Check the sizes of the splits\n",
    "print(f\"Training data size: {train_data.shape}\")\n",
    "print(f\"Testing data size: {test_data.shape}\")\n"
   ]
  },
  {
   "cell_type": "code",
   "execution_count": 45,
   "metadata": {
    "colab": {
     "base_uri": "https://localhost:8080/",
     "height": 634
    },
    "id": "eiD_MTFpLyFj",
    "outputId": "bd0c32e2-6142-460e-84a0-018c18e83f1b"
   },
   "outputs": [
    {
     "data": {
      "text/html": [
       "<div>\n",
       "<style scoped>\n",
       "    .dataframe tbody tr th:only-of-type {\n",
       "        vertical-align: middle;\n",
       "    }\n",
       "\n",
       "    .dataframe tbody tr th {\n",
       "        vertical-align: top;\n",
       "    }\n",
       "\n",
       "    .dataframe thead th {\n",
       "        text-align: right;\n",
       "    }\n",
       "</style>\n",
       "<table border=\"1\" class=\"dataframe\">\n",
       "  <thead>\n",
       "    <tr style=\"text-align: right;\">\n",
       "      <th></th>\n",
       "      <th>user_id</th>\n",
       "      <th>pratilipi_id</th>\n",
       "      <th>read_percent</th>\n",
       "      <th>user_interacted</th>\n",
       "      <th>author_id</th>\n",
       "      <th>category_name</th>\n",
       "      <th>reading_time</th>\n",
       "      <th>meta_data_updated</th>\n",
       "      <th>published_at</th>\n",
       "    </tr>\n",
       "  </thead>\n",
       "  <tbody>\n",
       "    <tr>\n",
       "      <th>106</th>\n",
       "      <td>5506791979646770</td>\n",
       "      <td>1377786228185246</td>\n",
       "      <td>69.0</td>\n",
       "      <td>2022-03-19 07:48:23.275</td>\n",
       "      <td>-2.270332e+15</td>\n",
       "      <td>family</td>\n",
       "      <td>439.0</td>\n",
       "      <td>2022-03-10 16:33:06</td>\n",
       "      <td>2022-03-10 16:33:05</td>\n",
       "    </tr>\n",
       "    <tr>\n",
       "      <th>107</th>\n",
       "      <td>5506791979646770</td>\n",
       "      <td>1377786228185246</td>\n",
       "      <td>69.0</td>\n",
       "      <td>2022-03-19 07:48:23.275</td>\n",
       "      <td>-2.270332e+15</td>\n",
       "      <td>romance</td>\n",
       "      <td>439.0</td>\n",
       "      <td>2022-03-10 16:33:06</td>\n",
       "      <td>2022-03-10 16:33:05</td>\n",
       "    </tr>\n",
       "    <tr>\n",
       "      <th>108</th>\n",
       "      <td>5506791979646770</td>\n",
       "      <td>1377786228185246</td>\n",
       "      <td>69.0</td>\n",
       "      <td>2022-03-19 07:48:23.275</td>\n",
       "      <td>-2.270332e+15</td>\n",
       "      <td>entertainment</td>\n",
       "      <td>439.0</td>\n",
       "      <td>2022-03-10 16:33:06</td>\n",
       "      <td>2022-03-10 16:33:05</td>\n",
       "    </tr>\n",
       "    <tr>\n",
       "      <th>393</th>\n",
       "      <td>5506791967631324</td>\n",
       "      <td>1377786228029338</td>\n",
       "      <td>100.0</td>\n",
       "      <td>2022-03-20 09:15:31.208</td>\n",
       "      <td>-2.270332e+15</td>\n",
       "      <td>Pratilipi-Awards-Hindi</td>\n",
       "      <td>1116.0</td>\n",
       "      <td>2022-03-02 13:53:27</td>\n",
       "      <td>2022-03-02 13:53:27</td>\n",
       "    </tr>\n",
       "    <tr>\n",
       "      <th>394</th>\n",
       "      <td>5506791967631324</td>\n",
       "      <td>1377786228029338</td>\n",
       "      <td>100.0</td>\n",
       "      <td>2022-03-20 09:15:31.208</td>\n",
       "      <td>-2.270332e+15</td>\n",
       "      <td>romance</td>\n",
       "      <td>1116.0</td>\n",
       "      <td>2022-03-02 13:53:27</td>\n",
       "      <td>2022-03-02 13:53:27</td>\n",
       "    </tr>\n",
       "    <tr>\n",
       "      <th>...</th>\n",
       "      <td>...</td>\n",
       "      <td>...</td>\n",
       "      <td>...</td>\n",
       "      <td>...</td>\n",
       "      <td>...</td>\n",
       "      <td>...</td>\n",
       "      <td>...</td>\n",
       "      <td>...</td>\n",
       "      <td>...</td>\n",
       "    </tr>\n",
       "    <tr>\n",
       "      <th>3711664</th>\n",
       "      <td>5506791984835067</td>\n",
       "      <td>1377786225481443</td>\n",
       "      <td>100.0</td>\n",
       "      <td>2022-03-21 15:39:05.985</td>\n",
       "      <td>-2.270332e+15</td>\n",
       "      <td>novels</td>\n",
       "      <td>592.0</td>\n",
       "      <td>2021-09-09 09:05:16</td>\n",
       "      <td>2021-09-09 09:05:16</td>\n",
       "    </tr>\n",
       "    <tr>\n",
       "      <th>3711665</th>\n",
       "      <td>5506791984835067</td>\n",
       "      <td>1377786225481443</td>\n",
       "      <td>100.0</td>\n",
       "      <td>2022-03-21 15:39:05.985</td>\n",
       "      <td>-2.270332e+15</td>\n",
       "      <td>action-and-adventure</td>\n",
       "      <td>592.0</td>\n",
       "      <td>2021-09-09 09:05:16</td>\n",
       "      <td>2021-09-09 09:05:16</td>\n",
       "    </tr>\n",
       "    <tr>\n",
       "      <th>3711666</th>\n",
       "      <td>5506791984835067</td>\n",
       "      <td>1377786225481443</td>\n",
       "      <td>100.0</td>\n",
       "      <td>2022-03-21 15:39:05.985</td>\n",
       "      <td>-2.270332e+15</td>\n",
       "      <td>Pratilipi-Awards-Hindi</td>\n",
       "      <td>592.0</td>\n",
       "      <td>2021-09-09 09:05:16</td>\n",
       "      <td>2021-09-09 09:05:16</td>\n",
       "    </tr>\n",
       "    <tr>\n",
       "      <th>3711723</th>\n",
       "      <td>5506791954355366</td>\n",
       "      <td>1377786219699244</td>\n",
       "      <td>100.0</td>\n",
       "      <td>2022-03-20 13:27:13.724</td>\n",
       "      <td>-4.063333e+15</td>\n",
       "      <td>novels</td>\n",
       "      <td>372.0</td>\n",
       "      <td>2020-06-19 13:57:06</td>\n",
       "      <td>2020-06-19 13:56:39</td>\n",
       "    </tr>\n",
       "    <tr>\n",
       "      <th>3711724</th>\n",
       "      <td>5506791954355366</td>\n",
       "      <td>1377786219699244</td>\n",
       "      <td>100.0</td>\n",
       "      <td>2022-03-20 13:27:13.724</td>\n",
       "      <td>-4.063333e+15</td>\n",
       "      <td>life</td>\n",
       "      <td>372.0</td>\n",
       "      <td>2020-06-19 13:57:06</td>\n",
       "      <td>2020-06-19 13:56:39</td>\n",
       "    </tr>\n",
       "  </tbody>\n",
       "</table>\n",
       "<p>51630 rows × 9 columns</p>\n",
       "</div>"
      ],
      "text/plain": [
       "                  user_id      pratilipi_id  read_percent  \\\n",
       "106      5506791979646770  1377786228185246          69.0   \n",
       "107      5506791979646770  1377786228185246          69.0   \n",
       "108      5506791979646770  1377786228185246          69.0   \n",
       "393      5506791967631324  1377786228029338         100.0   \n",
       "394      5506791967631324  1377786228029338         100.0   \n",
       "...                   ...               ...           ...   \n",
       "3711664  5506791984835067  1377786225481443         100.0   \n",
       "3711665  5506791984835067  1377786225481443         100.0   \n",
       "3711666  5506791984835067  1377786225481443         100.0   \n",
       "3711723  5506791954355366  1377786219699244         100.0   \n",
       "3711724  5506791954355366  1377786219699244         100.0   \n",
       "\n",
       "                user_interacted     author_id           category_name  \\\n",
       "106     2022-03-19 07:48:23.275 -2.270332e+15                  family   \n",
       "107     2022-03-19 07:48:23.275 -2.270332e+15                 romance   \n",
       "108     2022-03-19 07:48:23.275 -2.270332e+15           entertainment   \n",
       "393     2022-03-20 09:15:31.208 -2.270332e+15  Pratilipi-Awards-Hindi   \n",
       "394     2022-03-20 09:15:31.208 -2.270332e+15                 romance   \n",
       "...                         ...           ...                     ...   \n",
       "3711664 2022-03-21 15:39:05.985 -2.270332e+15                  novels   \n",
       "3711665 2022-03-21 15:39:05.985 -2.270332e+15    action-and-adventure   \n",
       "3711666 2022-03-21 15:39:05.985 -2.270332e+15  Pratilipi-Awards-Hindi   \n",
       "3711723 2022-03-20 13:27:13.724 -4.063333e+15                  novels   \n",
       "3711724 2022-03-20 13:27:13.724 -4.063333e+15                    life   \n",
       "\n",
       "         reading_time   meta_data_updated        published_at  \n",
       "106             439.0 2022-03-10 16:33:06 2022-03-10 16:33:05  \n",
       "107             439.0 2022-03-10 16:33:06 2022-03-10 16:33:05  \n",
       "108             439.0 2022-03-10 16:33:06 2022-03-10 16:33:05  \n",
       "393            1116.0 2022-03-02 13:53:27 2022-03-02 13:53:27  \n",
       "394            1116.0 2022-03-02 13:53:27 2022-03-02 13:53:27  \n",
       "...               ...                 ...                 ...  \n",
       "3711664         592.0 2021-09-09 09:05:16 2021-09-09 09:05:16  \n",
       "3711665         592.0 2021-09-09 09:05:16 2021-09-09 09:05:16  \n",
       "3711666         592.0 2021-09-09 09:05:16 2021-09-09 09:05:16  \n",
       "3711723         372.0 2020-06-19 13:57:06 2020-06-19 13:56:39  \n",
       "3711724         372.0 2020-06-19 13:57:06 2020-06-19 13:56:39  \n",
       "\n",
       "[51630 rows x 9 columns]"
      ]
     },
     "execution_count": 45,
     "metadata": {},
     "output_type": "execute_result"
    }
   ],
   "source": [
    "train_data"
   ]
  },
  {
   "cell_type": "code",
   "execution_count": 64,
   "metadata": {},
   "outputs": [
    {
     "data": {
      "text/plain": [
       "219"
      ]
     },
     "execution_count": 64,
     "metadata": {},
     "output_type": "execute_result"
    }
   ],
   "source": [
    "train_data['user_id'].nunique()"
   ]
  },
  {
   "cell_type": "markdown",
   "metadata": {
    "id": "qZQ5IfqeKuY3"
   },
   "source": [
    "# Collaborative Recommendation"
   ]
  },
  {
   "cell_type": "code",
   "execution_count": 138,
   "metadata": {},
   "outputs": [],
   "source": [
    "import pandas as pd\n",
    "import numpy as np\n",
    "from sklearn.metrics.pairwise import cosine_similarity\n",
    "from tqdm import tqdm"
   ]
  },
  {
   "cell_type": "code",
   "execution_count": 264,
   "metadata": {
    "id": "4jV7vZg1x5a0"
   },
   "outputs": [],
   "source": [
    "user_item_matrix = pd.pivot_table(\n",
    "    train_data,\n",
    "    values='read_percent',\n",
    "    index='user_id',\n",
    "    columns='pratilipi_id',\n",
    "    fill_value=0\n",
    ")\n"
   ]
  },
  {
   "cell_type": "code",
   "execution_count": 240,
   "metadata": {},
   "outputs": [],
   "source": [
    "user_similarity = cosine_similarity(user_item_matrix)\n",
    "user_similarity_df = pd.DataFrame(\n",
    "    user_similarity,\n",
    "    index=user_item_matrix.index,\n",
    "    columns=user_item_matrix.index\n",
    ")"
   ]
  },
  {
   "cell_type": "code",
   "execution_count": 242,
   "metadata": {},
   "outputs": [],
   "source": [
    "def get_recommendations(user_id, n_recommendations=5):\n",
    "    # Skip if user not in training data\n",
    "    if user_id not in user_item_matrix.index:\n",
    "        return []\n",
    "    \n",
    "    # Get similar users\n",
    "    user_similarities = user_similarity_df.loc[user_id]\n",
    "    similar_users = user_similarities.sort_values(ascending=False)[1:11]  # top 10 similar users\n",
    "    \n",
    "    # Get items read by similar users but not by target user\n",
    "    user_items = user_item_matrix.loc[user_id]\n",
    "    unread_items = user_items[user_items == 0].index\n",
    "    \n",
    "    # Calculate predicted ratings\n",
    "    predictions = defaultdict(float)\n",
    "    for item in unread_items:\n",
    "        weighted_sum = 0\n",
    "        similarity_sum = 0\n",
    "        \n",
    "        for similar_user, similarity in similar_users.items():\n",
    "            rating = user_item_matrix.loc[similar_user, item]\n",
    "            if rating > 0:\n",
    "                weighted_sum += similarity * rating\n",
    "                similarity_sum += similarity\n",
    "        \n",
    "        if similarity_sum > 0:\n",
    "            predictions[item] = weighted_sum / similarity_sum\n",
    "    \n",
    "    # Sort and return top N recommendations\n",
    "    recommendations = sorted(predictions.items(), key=lambda x: x[1], reverse=True)\n",
    "    return recommendations[:n_recommendations]"
   ]
  },
  {
   "cell_type": "code",
   "execution_count": 244,
   "metadata": {},
   "outputs": [
    {
     "name": "stdout",
     "output_type": "stream",
     "text": [
      "Evaluating recommendations...\n"
     ]
    },
    {
     "name": "stderr",
     "output_type": "stream",
     "text": [
      "100%|██████████| 219/219 [03:39<00:00,  1.00s/it]\n"
     ]
    }
   ],
   "source": [
    "\n",
    "# 5. Evaluate on test set\n",
    "print(\"Evaluating recommendations...\")\n",
    "precision_scores = []\n",
    "recall_scores = []\n",
    "\n",
    "for user_id in tqdm(test_data['user_id'].unique()):\n",
    "    if user_id not in user_item_matrix.index:\n",
    "        continue\n",
    "        \n",
    "    # Get actual items from test set\n",
    "    actual_items = set(test_data[test_data['user_id'] == user_id]['pratilipi_id'])\n",
    "    \n",
    "    # Get predicted items\n",
    "    predictions = get_recommendations(user_id)\n",
    "    predicted_items = set([item_id for item_id, _ in predictions])\n",
    "    \n",
    "    # Calculate metrics\n",
    "    if len(predicted_items) > 0:\n",
    "        precision = len(actual_items.intersection(predicted_items)) / len(predicted_items)\n",
    "        precision_scores.append(precision)\n",
    "    \n",
    "    if len(actual_items) > 0:\n",
    "        recall = len(actual_items.intersection(predicted_items)) / len(actual_items)\n",
    "        recall_scores.append(recall)\n"
   ]
  },
  {
   "cell_type": "code",
   "execution_count": 246,
   "metadata": {},
   "outputs": [],
   "source": [
    "# 6. Calculate and print final metrics\n",
    "avg_precision = np.mean(precision_scores)\n",
    "avg_recall = np.mean(recall_scores)\n",
    "f1_score = 2 * (avg_precision * avg_recall) / (avg_precision + avg_recall) if (avg_precision + avg_recall) > 0 else 0\n"
   ]
  },
  {
   "cell_type": "code",
   "execution_count": 188,
   "metadata": {},
   "outputs": [
    {
     "name": "stdout",
     "output_type": "stream",
     "text": [
      "\n",
      "Example Recommendations:\n",
      "\n",
      "User 4486566719693476:\n",
      "1. Pratilipi 1377786217638770 (Category: romance)\n",
      "2. Pratilipi 1377786219056910 (Category: novels)\n",
      "3. Pratilipi 1377786219217737 (Category: romance)\n",
      "4. Pratilipi 1377786220803440 (Category: romance)\n",
      "5. Pratilipi 1377786223004254 (Category: action-and-adventure)\n",
      "\n",
      "User 4546528720364196:\n",
      "1. Pratilipi 1377786226591267 (Category: family)\n",
      "2. Pratilipi 1377786228322121 (Category: action-and-adventure)\n",
      "3. Pratilipi 1377786225471580 (Category: drama)\n",
      "4. Pratilipi 1377786228137223 (Category: action-and-adventure)\n",
      "5. Pratilipi 1377786226564767 (Category: romance)\n",
      "\n",
      "User 4623856406274724:\n",
      "1. Pratilipi 1377786226367632 (Category: novels)\n",
      "2. Pratilipi 1377786224150562 (Category: family)\n",
      "3. Pratilipi 1377786218996800 (Category: novels)\n",
      "4. Pratilipi 1377786219644777 (Category: novels)\n",
      "5. Pratilipi 1377786219743867 (Category: novels)\n",
      "\n",
      "User 5371339105280676:\n",
      "1. Pratilipi 1377786218488310 (Category: novels)\n",
      "2. Pratilipi 1377786221387790 (Category: crime)\n",
      "3. Pratilipi 1377786224792848 (Category: novels)\n",
      "4. Pratilipi 1377786224909656 (Category: novels)\n",
      "5. Pratilipi 1377786224937188 (Category: novels)\n",
      "\n",
      "User 5506791946924407:\n",
      "1. Pratilipi 1377786226124716 (Category: novels)\n",
      "2. Pratilipi 1377786226200655 (Category: novels)\n",
      "3. Pratilipi 1377786215632054 (Category: drama)\n",
      "4. Pratilipi 1377786216454791 (Category: novels)\n",
      "5. Pratilipi 1377786216477817 (Category: romance)\n"
     ]
    }
   ],
   "source": [
    "print(\"\\nExample Recommendations:\")\n",
    "for user_id in list(train_matrix.index)[:5]:  # First 5 users\n",
    "    print(f\"\\nUser {user_id}:\")\n",
    "    recs = get_recommendations(user_id)\n",
    "    for i, (item_id, score) in enumerate(recs, 1):\n",
    "        category = meta_data[meta_data['pratilipi_id'] == item_id]['category_name'].iloc[0] \\\n",
    "            if item_id in meta_data['pratilipi_id'].values else 'Unknown'\n",
    "        print(f\"{i}. Pratilipi {item_id} (Category: {category})\")"
   ]
  },
  {
   "cell_type": "code",
   "execution_count": null,
   "metadata": {},
   "outputs": [],
   "source": []
  }
 ],
 "metadata": {
  "colab": {
   "provenance": []
  },
  "kernelspec": {
   "display_name": "Python 3 (ipykernel)",
   "language": "python",
   "name": "python3"
  },
  "language_info": {
   "codemirror_mode": {
    "name": "ipython",
    "version": 3
   },
   "file_extension": ".py",
   "mimetype": "text/x-python",
   "name": "python",
   "nbconvert_exporter": "python",
   "pygments_lexer": "ipython3",
   "version": "3.12.7"
  }
 },
 "nbformat": 4,
 "nbformat_minor": 4
}
